{
 "cells": [
  {
   "cell_type": "code",
   "execution_count": 1,
   "metadata": {},
   "outputs": [],
   "source": [
    "import quandl"
   ]
  },
  {
   "cell_type": "code",
   "execution_count": 2,
   "metadata": {},
   "outputs": [],
   "source": [
    "data = quandl.get(\"WIKI/AAPL\")"
   ]
  },
  {
   "cell_type": "code",
   "execution_count": 6,
   "metadata": {},
   "outputs": [],
   "source": [
    "data.to_csv(\"apple_stock.csv\")"
   ]
  },
  {
   "cell_type": "code",
   "execution_count": 1,
   "metadata": {},
   "outputs": [],
   "source": [
    "import pandas as pd\n",
    "import numpy as np\n",
    "import matplotlib.pyplot as plt\n",
    "%matplotlib inline"
   ]
  },
  {
   "cell_type": "code",
   "execution_count": 2,
   "metadata": {},
   "outputs": [],
   "source": [
    "data = pd.read_csv(\"apple_stock.csv\")[['Date', 'Open', 'High', 'Low', 'Close', 'Volume']]"
   ]
  },
  {
   "cell_type": "code",
   "execution_count": 3,
   "metadata": {},
   "outputs": [
    {
     "data": {
      "text/html": [
       "<div>\n",
       "<style scoped>\n",
       "    .dataframe tbody tr th:only-of-type {\n",
       "        vertical-align: middle;\n",
       "    }\n",
       "\n",
       "    .dataframe tbody tr th {\n",
       "        vertical-align: top;\n",
       "    }\n",
       "\n",
       "    .dataframe thead th {\n",
       "        text-align: right;\n",
       "    }\n",
       "</style>\n",
       "<table border=\"1\" class=\"dataframe\">\n",
       "  <thead>\n",
       "    <tr style=\"text-align: right;\">\n",
       "      <th></th>\n",
       "      <th>Open</th>\n",
       "      <th>High</th>\n",
       "      <th>Low</th>\n",
       "      <th>Close</th>\n",
       "      <th>Volume</th>\n",
       "    </tr>\n",
       "    <tr>\n",
       "      <th>Date</th>\n",
       "      <th></th>\n",
       "      <th></th>\n",
       "      <th></th>\n",
       "      <th></th>\n",
       "      <th></th>\n",
       "    </tr>\n",
       "  </thead>\n",
       "  <tbody>\n",
       "    <tr>\n",
       "      <th>1980-12-12</th>\n",
       "      <td>28.75</td>\n",
       "      <td>28.87</td>\n",
       "      <td>28.75</td>\n",
       "      <td>28.75</td>\n",
       "      <td>2093900.0</td>\n",
       "    </tr>\n",
       "    <tr>\n",
       "      <th>1980-12-15</th>\n",
       "      <td>27.38</td>\n",
       "      <td>27.38</td>\n",
       "      <td>27.25</td>\n",
       "      <td>27.25</td>\n",
       "      <td>785200.0</td>\n",
       "    </tr>\n",
       "    <tr>\n",
       "      <th>1980-12-16</th>\n",
       "      <td>25.37</td>\n",
       "      <td>25.37</td>\n",
       "      <td>25.25</td>\n",
       "      <td>25.25</td>\n",
       "      <td>472000.0</td>\n",
       "    </tr>\n",
       "    <tr>\n",
       "      <th>1980-12-17</th>\n",
       "      <td>25.87</td>\n",
       "      <td>26.00</td>\n",
       "      <td>25.87</td>\n",
       "      <td>25.87</td>\n",
       "      <td>385900.0</td>\n",
       "    </tr>\n",
       "    <tr>\n",
       "      <th>1980-12-18</th>\n",
       "      <td>26.63</td>\n",
       "      <td>26.75</td>\n",
       "      <td>26.63</td>\n",
       "      <td>26.63</td>\n",
       "      <td>327900.0</td>\n",
       "    </tr>\n",
       "  </tbody>\n",
       "</table>\n",
       "</div>"
      ],
      "text/plain": [
       "             Open   High    Low  Close     Volume\n",
       "Date                                             \n",
       "1980-12-12  28.75  28.87  28.75  28.75  2093900.0\n",
       "1980-12-15  27.38  27.38  27.25  27.25   785200.0\n",
       "1980-12-16  25.37  25.37  25.25  25.25   472000.0\n",
       "1980-12-17  25.87  26.00  25.87  25.87   385900.0\n",
       "1980-12-18  26.63  26.75  26.63  26.63   327900.0"
      ]
     },
     "execution_count": 3,
     "metadata": {},
     "output_type": "execute_result"
    }
   ],
   "source": [
    "data.set_index(\"Date\", inplace=True)\n",
    "data.head()"
   ]
  },
  {
   "cell_type": "code",
   "execution_count": 4,
   "metadata": {},
   "outputs": [
    {
     "data": {
      "text/plain": [
       "<matplotlib.axes._subplots.AxesSubplot at 0x222bf3a3240>"
      ]
     },
     "execution_count": 4,
     "metadata": {},
     "output_type": "execute_result"
    },
    {
     "data": {
      "image/png": "[encoded data removed]",
      "text/plain": [
       "<Figure size 432x288 with 1 Axes>"
      ]
     },
     "metadata": {},
     "output_type": "display_data"
    }
   ],
   "source": [
    "data[['Open', 'High', 'Low', 'Close']].plot()"
   ]
  },
  {
   "cell_type": "code",
   "execution_count": 6,
   "metadata": {},
   "outputs": [],
   "source": [
    "from pandas import DataFrame\n",
    "from pandas import concat\n",
    "\n",
    "def series_to_supervised(data, n_in=1, n_out=1, dropnan=True):\n",
    "\t\"\"\"\n",
    "\tFrame a time series as a supervised learning dataset.\n",
    "\tArguments:\n",
    "\t\tdata: Sequence of observations as a list or NumPy array.\n",
    "\t\tn_in: Number of lag observations as input (X).\n",
    "\t\tn_out: Number of observations as output (y).\n",
    "\t\tdropnan: Boolean whether or not to drop rows with NaN values.\n",
    "\tReturns:\n",
    "\t\tPandas DataFrame of series framed for supervised learning.\n",
    "\t\"\"\"\n",
    "\tn_vars = 1 if type(data) is list else data.shape[1]\n",
    "\tdf = DataFrame(data)\n",
    "\tcols, names = list(), list()\n",
    "\t# input sequence (t-n, ... t-1)\n",
    "\tfor i in range(n_in, 0, -1):\n",
    "\t\tcols.append(df.shift(i))\n",
    "\t\tnames += [('var%d(t-%d)' % (j+1, i)) for j in range(n_vars)]\n",
    "\t# forecast sequence (t, t+1, ... t+n)\n",
    "\tfor i in range(0, n_out):\n",
    "\t\tcols.append(df.shift(-i))\n",
    "\t\tif i == 0:\n",
    "\t\t\tnames += [('var%d(t)' % (j+1)) for j in range(n_vars)]\n",
    "\t\telse:\n",
    "\t\t\tnames += [('var%d(t+%d)' % (j+1, i)) for j in range(n_vars)]\n",
    "\t# put it all together\n",
    "\tagg = concat(cols, axis=1)\n",
    "\tagg.columns = names\n",
    "\t# drop rows with NaN values\n",
    "\tif dropnan:\n",
    "\t\tagg.dropna(inplace=True)\n",
    "\treturn agg\n",
    "\n",
    "# split a multivariate sequence into samples\n",
    "def split_sequences(sequences, n_steps):\n",
    "\tX, y = list(), list()\n",
    "\tfor i in range(len(sequences)):\n",
    "\t\t# find the end of this pattern\n",
    "\t\tend_ix = i + n_steps\n",
    "\t\t# check if we are beyond the dataset\n",
    "\t\tif end_ix > len(sequences):\n",
    "\t\t\tbreak\n",
    "\t\t# gather input and output parts of the pattern\n",
    "\t\tseq_x, seq_y = sequences[i:end_ix, :-1], sequences[end_ix-1, -1]\n",
    "\t\tX.append(seq_x)\n",
    "\t\ty.append(seq_y)\n",
    "\treturn np.array(X), np.array(y)\n",
    "\n",
    "# split a multivariate sequence into samples\n",
    "def split_sequences(sequences, n_steps):\n",
    "\tX, y = list(), list()\n",
    "\tfor i in range(len(sequences)):\n",
    "\t\t# find the end of this pattern\n",
    "\t\tend_ix = i + n_steps\n",
    "\t\t# check if we are beyond the dataset\n",
    "\t\tif end_ix > len(sequences)-1:\n",
    "\t\t\tbreak\n",
    "\t\t# gather input and output parts of the pattern\n",
    "\t\tseq_x, seq_y = sequences[i:end_ix, :], sequences[end_ix, :]\n",
    "\t\tX.append(seq_x)\n",
    "\t\ty.append(seq_y)\n",
    "\treturn np.array(X), np.array(y)\n",
    "\n",
    "X, y = split_sequences(data[['Open', 'High', 'Low', 'Close']].values, 5)"
   ]
  },
  {
   "cell_type": "code",
   "execution_count": 7,
   "metadata": {},
   "outputs": [
    {
     "data": {
      "text/plain": [
       "((9395, 5, 4), (9395, 4))"
      ]
     },
     "execution_count": 7,
     "metadata": {},
     "output_type": "execute_result"
    }
   ],
   "source": [
    "X.shape, y.shape"
   ]
  },
  {
   "cell_type": "code",
   "execution_count": 8,
   "metadata": {},
   "outputs": [],
   "source": [
    "from sklearn.model_selection import train_test_split\n",
    "X_train, X_test, y_train, y_test = train_test_split(X, y, test_size=0.2, random_state=42, shuffle=False)"
   ]
  },
  {
   "cell_type": "code",
   "execution_count": 10,
   "metadata": {},
   "outputs": [
    {
     "name": "stdout",
     "output_type": "stream",
     "text": [
      "_________________________________________________________________\n",
      "Layer (type)                 Output Shape              Param #   \n",
      "=================================================================\n",
      "lstm_3 (LSTM)                (None, 5, 128)            68096     \n",
      "_________________________________________________________________\n",
      "lstm_4 (LSTM)                (None, 64)                49408     \n",
      "_________________________________________________________________\n",
      "dense_2 (Dense)              (None, 4)                 260       \n",
      "=================================================================\n",
      "Total params: 117,764\n",
      "Trainable params: 117,764\n",
      "Non-trainable params: 0\n",
      "_________________________________________________________________\n"
     ]
    }
   ],
   "source": [
    "from keras.models import Sequential\n",
    "from keras.layers import LSTM\n",
    "from keras.layers import Dense, Dropout\n",
    "\n",
    "model = Sequential([LSTM(128, activation='relu', input_shape=(X.shape[1], X.shape[2]), return_sequences=True),\n",
    "                    LSTM(64, activation='relu'), \n",
    "                    Dense(y.shape[1], activation=\"linear\")])\n",
    "model.compile(optimizer='adam', loss='mse')\n",
    "model.summary()"
   ]
  },
  {
   "cell_type": "code",
   "execution_count": 11,
   "metadata": {},
   "outputs": [
    {
     "name": "stdout",
     "output_type": "stream",
     "text": [
      "Train on 6764 samples, validate on 752 samples\n",
      "Epoch 1/50\n",
      "6764/6764 [==============================] - 4s 657us/step - loss: 885.7269 - val_loss: 89.0375\n",
      "Epoch 2/50\n",
      "6764/6764 [==============================] - 2s 239us/step - loss: 9.6403 - val_loss: 130.3319\n",
      "Epoch 3/50\n",
      "6764/6764 [==============================] - 2s 259us/step - loss: 6.1398 - val_loss: 44.4658\n",
      "Epoch 4/50\n",
      "6764/6764 [==============================] - 2s 223us/step - loss: 5.1364 - val_loss: 41.5661\n",
      "Epoch 5/50\n",
      "6764/6764 [==============================] - 2s 226us/step - loss: 4.7416 - val_loss: 39.0082\n",
      "Epoch 6/50\n",
      "6764/6764 [==============================] - 2s 223us/step - loss: 4.2271 - val_loss: 34.9406\n",
      "Epoch 7/50\n",
      "6764/6764 [==============================] - 1s 221us/step - loss: 3.8209 - val_loss: 34.6542\n",
      "Epoch 8/50\n",
      "6764/6764 [==============================] - 2s 225us/step - loss: 3.9536 - val_loss: 30.7243\n",
      "Epoch 9/50\n",
      "6764/6764 [==============================] - 2s 224us/step - loss: 4.0193 - val_loss: 25.3121\n",
      "Epoch 10/50\n",
      "6764/6764 [==============================] - 2s 227us/step - loss: 3.7229 - val_loss: 42.2890\n",
      "Epoch 11/50\n",
      "6764/6764 [==============================] - 2s 252us/step - loss: 3.5153 - val_loss: 29.6575\n",
      "Epoch 12/50\n",
      "6764/6764 [==============================] - 2s 262us/step - loss: 3.2274 - val_loss: 61.8915\n",
      "Epoch 13/50\n",
      "6764/6764 [==============================] - 2s 240us/step - loss: 3.5775 - val_loss: 36.3446\n",
      "Epoch 14/50\n",
      "6764/6764 [==============================] - 2s 245us/step - loss: 3.3479 - val_loss: 53.5511\n",
      "Epoch 15/50\n",
      "6764/6764 [==============================] - 2s 233us/step - loss: 3.7113 - val_loss: 26.6801\n",
      "Epoch 16/50\n",
      "6764/6764 [==============================] - 2s 244us/step - loss: 3.4018 - val_loss: 42.2134\n",
      "Epoch 17/50\n",
      "6764/6764 [==============================] - 2s 227us/step - loss: 3.2380 - val_loss: 29.7753\n",
      "Epoch 18/50\n",
      "6764/6764 [==============================] - 2s 229us/step - loss: 3.4250 - val_loss: 55.1296\n",
      "Epoch 19/50\n",
      "6764/6764 [==============================] - 2s 227us/step - loss: 3.1355 - val_loss: 32.1239\n",
      "Epoch 20/50\n",
      "6764/6764 [==============================] - 2s 229us/step - loss: 3.1603 - val_loss: 27.3650\n",
      "Epoch 21/50\n",
      "6764/6764 [==============================] - 2s 257us/step - loss: 3.1514 - val_loss: 21.5383\n",
      "Epoch 22/50\n",
      "6764/6764 [==============================] - 2s 245us/step - loss: 3.0224 - val_loss: 23.9477\n",
      "Epoch 23/50\n",
      "6764/6764 [==============================] - 2s 253us/step - loss: 2.9523 - val_loss: 22.7953\n",
      "Epoch 24/50\n",
      "6764/6764 [==============================] - 2s 234us/step - loss: 3.1760 - val_loss: 32.3603\n",
      "Epoch 25/50\n",
      "6764/6764 [==============================] - 1s 217us/step - loss: 3.2108 - val_loss: 23.2810\n",
      "Epoch 26/50\n",
      "6764/6764 [==============================] - 1s 217us/step - loss: 2.8548 - val_loss: 22.1401\n",
      "Epoch 27/50\n",
      "6764/6764 [==============================] - 1s 219us/step - loss: 2.9017 - val_loss: 26.5216\n",
      "Epoch 28/50\n",
      "6764/6764 [==============================] - 1s 219us/step - loss: 2.8254 - val_loss: 25.4874\n",
      "Epoch 29/50\n",
      "6764/6764 [==============================] - 2s 228us/step - loss: 2.7047 - val_loss: 38.0657\n",
      "Epoch 30/50\n",
      "6764/6764 [==============================] - 1s 209us/step - loss: 3.1558 - val_loss: 37.8821\n",
      "Epoch 31/50\n",
      "6764/6764 [==============================] - 2s 258us/step - loss: 2.9975 - val_loss: 26.7293\n",
      "Epoch 32/50\n",
      "6764/6764 [==============================] - 2s 249us/step - loss: 3.0006 - val_loss: 30.8575\n",
      "Epoch 33/50\n",
      "6764/6764 [==============================] - 2s 240us/step - loss: 2.7245 - val_loss: 29.2741\n",
      "Epoch 34/50\n",
      "6764/6764 [==============================] - 2s 245us/step - loss: 2.8610 - val_loss: 30.3237\n",
      "Epoch 35/50\n",
      "6764/6764 [==============================] - 2s 225us/step - loss: 3.0746 - val_loss: 28.2601\n",
      "Epoch 36/50\n",
      "6764/6764 [==============================] - 1s 205us/step - loss: 2.9391 - val_loss: 18.4827\n",
      "Epoch 37/50\n",
      "6764/6764 [==============================] - 2s 256us/step - loss: 2.5811 - val_loss: 18.6522\n",
      "Epoch 38/50\n",
      "6764/6764 [==============================] - 2s 247us/step - loss: 2.9868 - val_loss: 24.1426\n",
      "Epoch 39/50\n",
      "6764/6764 [==============================] - 2s 230us/step - loss: 2.4737 - val_loss: 16.8259\n",
      "Epoch 40/50\n",
      "6764/6764 [==============================] - 2s 231us/step - loss: 2.5937 - val_loss: 27.7659\n",
      "Epoch 41/50\n",
      "6764/6764 [==============================] - 2s 331us/step - loss: 2.5863 - val_loss: 20.1163\n",
      "Epoch 42/50\n",
      "6764/6764 [==============================] - 2s 240us/step - loss: 2.7178 - val_loss: 23.9049\n",
      "Epoch 43/50\n",
      "6764/6764 [==============================] - 2s 224us/step - loss: 2.7269 - val_loss: 22.8358\n",
      "Epoch 44/50\n",
      "6764/6764 [==============================] - 2s 223us/step - loss: 2.5005 - val_loss: 22.7508\n",
      "Epoch 45/50\n",
      "6764/6764 [==============================] - 1s 209us/step - loss: 2.7642 - val_loss: 26.9642\n",
      "Epoch 46/50\n",
      "6764/6764 [==============================] - 1s 209us/step - loss: 2.5676 - val_loss: 30.9541\n",
      "Epoch 47/50\n",
      "6764/6764 [==============================] - 1s 220us/step - loss: 2.7057 - val_loss: 26.2940\n",
      "Epoch 48/50\n",
      "6764/6764 [==============================] - 1s 221us/step - loss: 2.6952 - val_loss: 22.8598\n",
      "Epoch 49/50\n",
      "6764/6764 [==============================] - 1s 209us/step - loss: 2.4995 - val_loss: 30.4095\n",
      "Epoch 50/50\n",
      "6764/6764 [==============================] - 1s 211us/step - loss: 2.5748 - val_loss: 23.8031\n"
     ]
    },
    {
     "data": {
      "text/plain": [
       "<keras.callbacks.History at 0x222c65ec668>"
      ]
     },
     "execution_count": 11,
     "metadata": {},
     "output_type": "execute_result"
    }
   ],
   "source": [
    "model.fit(X_train, y_train, epochs=50, batch_size=256, validation_split=0.1)"
   ]
  },
  {
   "cell_type": "code",
   "execution_count": 25,
   "metadata": {},
   "outputs": [
    {
     "data": {
      "text/plain": [
       "<matplotlib.axes._subplots.AxesSubplot at 0x222cd7c0f98>"
      ]
     },
     "execution_count": 25,
     "metadata": {},
     "output_type": "execute_result"
    },
    {
     "data": {
      "image/png": "[encoded data removed]",
      "text/plain": [
       "<Figure size 432x288 with 1 Axes>"
      ]
     },
     "metadata": {},
     "output_type": "display_data"
    }
   ],
   "source": [
    "pd.DataFrame({\"orignal\":y_test[:,-1], \"predicted\":model.predict(X_test)[:,-1]}).plot()\n",
    "# model.predict(X).reshape(-1,).shape\n",
    "# y_test[:,-1].shape\n",
    "# model.predict(X_test)[:,-1].shape"
   ]
  },
  {
   "cell_type": "code",
   "execution_count": 27,
   "metadata": {},
   "outputs": [
    {
     "data": {
      "text/plain": [
       "[<matplotlib.lines.Line2D at 0x222cd8b6d68>,\n",
       " <matplotlib.lines.Line2D at 0x222cd8b6eb8>,\n",
       " <matplotlib.lines.Line2D at 0x222cd8bf048>,\n",
       " <matplotlib.lines.Line2D at 0x222cd8bf198>]"
      ]
     },
     "execution_count": 27,
     "metadata": {},
     "output_type": "execute_result"
    },
    {
     "data": {
      "image/png": "[encoded data removed]",
      "text/plain": [
       "<Figure size 432x288 with 1 Axes>"
      ]
     },
     "metadata": {},
     "output_type": "display_data"
    }
   ],
   "source": [
    "plt.plot(y_test-model.predict(X_test))"
   ]
  },
  {
   "cell_type": "code",
   "execution_count": 78,
   "metadata": {},
   "outputs": [
    {
     "data": {
      "text/plain": [
       "(9396, 5, 3)"
      ]
     },
     "execution_count": 78,
     "metadata": {},
     "output_type": "execute_result"
    }
   ],
   "source": [
    "# np.hstack((y_train, y_test)).shape\n",
    "np.vstack((X_train,X_test)).shape"
   ]
  },
  {
   "cell_type": "code",
   "execution_count": null,
   "metadata": {},
   "outputs": [],
   "source": []
  }
 ],
 "metadata": {
  "kernelspec": {
   "display_name": "Python 3",
   "language": "python",
   "name": "python3"
  },
  "language_info": {
   "codemirror_mode": {
    "name": "ipython",
    "version": 3
   },
   "file_extension": ".py",
   "mimetype": "text/x-python",
   "name": "python",
   "nbconvert_exporter": "python",
   "pygments_lexer": "ipython3",
   "version": "3.6.8"
  }
 },
 "nbformat": 4,
 "nbformat_minor": 2
}
